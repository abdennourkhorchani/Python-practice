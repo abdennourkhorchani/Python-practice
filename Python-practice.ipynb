{
 "cells": [
  {
   "cell_type": "code",
   "execution_count": 1,
   "id": "a45a8044-ea7e-487e-8d57-71abafd8cdb9",
   "metadata": {},
   "outputs": [
    {
     "name": "stdout",
     "output_type": "stream",
     "text": [
      "Hello mike ! \n"
     ]
    }
   ],
   "source": [
    "def Greeting (name):\n",
    "    print(\"Hello {} ! \".format(name))\n",
    "\n",
    "Greeting(\"mike\")"
   ]
  },
  {
   "cell_type": "code",
   "execution_count": 2,
   "id": "35c1461c-5f2e-41f8-b48a-b841557f732b",
   "metadata": {},
   "outputs": [
    {
     "data": {
      "text/plain": [
       "True"
      ]
     },
     "execution_count": 2,
     "metadata": {},
     "output_type": "execute_result"
    }
   ],
   "source": [
    "not''"
   ]
  },
  {
   "cell_type": "code",
   "execution_count": 3,
   "id": "b131f131-87c7-4b49-a201-930ef94a22bb",
   "metadata": {},
   "outputs": [
    {
     "data": {
      "text/plain": [
       "False"
      ]
     },
     "execution_count": 3,
     "metadata": {},
     "output_type": "execute_result"
    }
   ],
   "source": [
    "not' '"
   ]
  },
  {
   "cell_type": "code",
   "execution_count": 4,
   "id": "83192c0a-bfb6-42fa-a93b-d2f96fb366af",
   "metadata": {},
   "outputs": [],
   "source": [
    "def lengeth(Prog):\n",
    "    print(len(Prog))"
   ]
  },
  {
   "cell_type": "code",
   "execution_count": 7,
   "id": "adc41f65-6553-4a62-91a8-6c9984a8ca96",
   "metadata": {},
   "outputs": [
    {
     "name": "stdout",
     "output_type": "stream",
     "text": [
      "6\n"
     ]
    }
   ],
   "source": [
    "lengeth('Python')"
   ]
  },
  {
   "cell_type": "code",
   "execution_count": 9,
   "id": "a1f29be7-7fc7-4cab-bac1-f06a84db5bd7",
   "metadata": {},
   "outputs": [],
   "source": [
    "def remove_extra_spacing(st):\n",
    "    return ' '.join(st.split())"
   ]
  },
  {
   "cell_type": "code",
   "execution_count": 15,
   "id": "72776c07-d760-4e10-891d-416f80c58e4e",
   "metadata": {},
   "outputs": [
    {
     "name": "stdout",
     "output_type": "stream",
     "text": [
      "Python prog leng\n"
     ]
    }
   ],
   "source": [
    "st='Python     prog     leng '\n",
    "print(' '.join(st.split()))"
   ]
  },
  {
   "cell_type": "code",
   "execution_count": 19,
   "id": "760e36f8-890a-405c-b511-2974634cc00c",
   "metadata": {},
   "outputs": [
    {
     "name": "stdout",
     "output_type": "stream",
     "text": [
      " World\n"
     ]
    }
   ],
   "source": [
    "str1 = \"Hello\"\n",
    "str2 = \"World\"\n",
    "concatenated_string = str1.join(\" \") + str2\n",
    "print(concatenated_string)"
   ]
  },
  {
   "cell_type": "code",
   "execution_count": 23,
   "id": "61510733-91db-4841-a9ca-681c387d5d6e",
   "metadata": {},
   "outputs": [
    {
     "data": {
      "text/plain": [
       "3"
      ]
     },
     "execution_count": 23,
     "metadata": {},
     "output_type": "execute_result"
    }
   ],
   "source": [
    "21  // 7"
   ]
  },
  {
   "cell_type": "code",
   "execution_count": 22,
   "id": "9f26ff6d-3203-4e91-9b9f-1988ac4f8fb1",
   "metadata": {},
   "outputs": [
    {
     "data": {
      "text/plain": [
       "3"
      ]
     },
     "execution_count": 22,
     "metadata": {},
     "output_type": "execute_result"
    }
   ],
   "source": [
    "22 // 7"
   ]
  },
  {
   "cell_type": "code",
   "execution_count": 25,
   "id": "0e704832-4e18-4c8d-859d-fa5fa99dfe33",
   "metadata": {},
   "outputs": [
    {
     "data": {
      "text/plain": [
       "2.857142857142857"
      ]
     },
     "execution_count": 25,
     "metadata": {},
     "output_type": "execute_result"
    }
   ],
   "source": [
    "20 / 7"
   ]
  },
  {
   "cell_type": "code",
   "execution_count": 42,
   "id": "abc6458b-1693-4bf4-a1ec-14d71a55f4ce",
   "metadata": {},
   "outputs": [
    {
     "data": {
      "text/plain": [
       "[3, 2, 1]"
      ]
     },
     "execution_count": 42,
     "metadata": {},
     "output_type": "execute_result"
    }
   ],
   "source": [
    "def reverse(lst):\n",
    "    return lst[::-1]\n",
    "reverse([1,2,3])\n",
    "#or \n",
    "list(reversed([1,2,3]))"
   ]
  },
  {
   "cell_type": "code",
   "execution_count": 43,
   "id": "e8a201ab-ab5e-44ef-ab08-22a8177704a8",
   "metadata": {},
   "outputs": [
    {
     "data": {
      "text/plain": [
       "390"
      ]
     },
     "execution_count": 43,
     "metadata": {},
     "output_type": "execute_result"
    }
   ],
   "source": [
    "# Write a python program that return the difference between first and last items in a list?\n",
    "\n",
    "# a = [110,140,170,200,230,260,290,320,350,380,410,440,470,500]\n",
    "\n",
    "def last_minus_frist(list):\n",
    "\n",
    "    return list[-1]-list[0]\n",
    "a =[110,140,170,200,230,260,290,320,350,380,410,440,470,500]\n",
    "last_minus_frist(a)"
   ]
  },
  {
   "cell_type": "code",
   "execution_count": 44,
   "id": "1445098a-5304-4613-a6c6-d6304730a487",
   "metadata": {},
   "outputs": [
    {
     "data": {
      "text/plain": [
       "150"
      ]
     },
     "execution_count": 44,
     "metadata": {},
     "output_type": "execute_result"
    }
   ],
   "source": [
    "# Write a python program that return the sum of the absolute value of each element of a list.\n",
    "x = [10,20,30,40,50]\n",
    "sum(abs(i) for i in x) "
   ]
  },
  {
   "cell_type": "code",
   "execution_count": 46,
   "id": "2f9d6e57-22e1-41cb-93fe-848e0eaf64f1",
   "metadata": {},
   "outputs": [
    {
     "data": {
      "text/plain": [
       "100"
      ]
     },
     "execution_count": 46,
     "metadata": {},
     "output_type": "execute_result"
    }
   ],
   "source": [
    "#Write a python program that Return the largest number in the list.\n",
    "x = [10,20,30,40,50,60,70,80,90,100]\n",
    "max(x)"
   ]
  },
  {
   "cell_type": "code",
   "execution_count": 48,
   "id": "ae3ce9a2-1c3d-47b8-ab3f-f7a28dc537ae",
   "metadata": {},
   "outputs": [
    {
     "data": {
      "text/plain": [
       "'e'"
      ]
     },
     "execution_count": 48,
     "metadata": {},
     "output_type": "execute_result"
    }
   ],
   "source": [
    "#last item in the list\n",
    "x= [ 1,2,34,5,'a','b','c','d','e']\n",
    "x[-1]"
   ]
  },
  {
   "cell_type": "code",
   "execution_count": 34,
   "id": "ac94d11a-838b-4aa3-9fad-c0bcdb7ecb2e",
   "metadata": {},
   "outputs": [
    {
     "data": {
      "text/plain": [
       "([5, 15, 20, 30, 80, 100, 150, 210], 9)"
      ]
     },
     "execution_count": 34,
     "metadata": {},
     "output_type": "execute_result"
    }
   ],
   "source": [
    "#sort a list in ascending order\n",
    "def list_sort(input_list):\n",
    "    swaps = 0\n",
    "    is_sorted = False\n",
    "    while not is_sorted:\n",
    "        is_sorted = True\n",
    "        for i in range(len(input_list) - 1):\n",
    "            if input_list[i] > input_list[i + 1]:\n",
    "                input_list[i], input_list[i + 1] = input_list[i + 1], input_list[i]\n",
    "                is_sorted = False\n",
    "                swaps += 1\n",
    "    return input_list, swaps\n",
    "\n",
    "list_sort([5,100,20,15,150,80,210,30])"
   ]
  },
  {
   "cell_type": "code",
   "execution_count": 43,
   "id": "53bc5cd6-6d1e-42eb-8a36-f1da2b207bb9",
   "metadata": {},
   "outputs": [
    {
     "name": "stdout",
     "output_type": "stream",
     "text": [
      "[14, 26, 42, 8, 45, 6, 12, 48, 24, 4]\n"
     ]
    }
   ],
   "source": [
    "# Write a Python program that complete an array with random numbers\n",
    "from random import randint \n",
    "x = 10\n",
    "array = []\n",
    "for i in range(x):\n",
    "    array.append(randint(0,50))\n",
    "print(array)"
   ]
  },
  {
   "cell_type": "code",
   "execution_count": 77,
   "id": "619c0556-badf-4d7c-b813-151b62078892",
   "metadata": {},
   "outputs": [],
   "source": [
    "def reverse_num(number):\n",
    "    st = str(number)\n",
    "    lst = [int(i) for i in st[::-1] ]\n",
    "        \n",
    "    return lst\n"
   ]
  },
  {
   "cell_type": "code",
   "execution_count": 78,
   "id": "f0e90d66-7555-40d1-b2de-8df23c6a9453",
   "metadata": {},
   "outputs": [
    {
     "data": {
      "text/plain": [
       "[0, 0, 4, 1]"
      ]
     },
     "execution_count": 78,
     "metadata": {},
     "output_type": "execute_result"
    }
   ],
   "source": [
    "reverse_num(1400)\n"
   ]
  },
  {
   "cell_type": "code",
   "execution_count": 81,
   "id": "0fa19b5c-4d22-4aec-997a-2c56a6981c77",
   "metadata": {},
   "outputs": [
    {
     "name": "stdout",
     "output_type": "stream",
     "text": [
      "does not exist !  \n"
     ]
    }
   ],
   "source": [
    "def getContainer (color):\n",
    "    match color:\n",
    "       case \"Bread\":\n",
    "           return \"bag\"\n",
    "       case \"Beer\" :\n",
    "           return \"hottle\"\n",
    "       case \"Candy\":\n",
    "           return \"plastic\"\n",
    "       case \"Cheese\":\n",
    "           return \"None\"\n",
    "    \n",
    "  #or \n",
    "\n",
    "things = {\n",
    "    \"Bread\": \"bag\",\n",
    "    \"Beer\": \"hottle\",\n",
    "    \"Candy\":\"plastic\",\n",
    "    \"Cheese\": \"None\"\n",
    "}\n",
    "\n",
    "message = things.get(\"hello\", \"does not exist !  \")\n",
    "print(message)"
   ]
  },
  {
   "cell_type": "code",
   "execution_count": 85,
   "id": "1b658a83-20a4-418d-bc05-d83f5d399905",
   "metadata": {},
   "outputs": [
    {
     "data": {
      "text/plain": [
       "'None'"
      ]
     },
     "execution_count": 85,
     "metadata": {},
     "output_type": "execute_result"
    }
   ],
   "source": [
    "getContainer(\"Cheese\")"
   ]
  },
  {
   "cell_type": "code",
   "execution_count": 86,
   "id": "a7dca705-d441-4874-b76c-f6ceaf2cd99c",
   "metadata": {},
   "outputs": [],
   "source": [
    "#returns True if a dictionary is empty, and False otherwise.\n",
    "def check_dict(dict):\n",
    "    return not dict "
   ]
  },
  {
   "cell_type": "code",
   "execution_count": 87,
   "id": "9c72047f-5584-4b33-9bb9-f7b6a46404d5",
   "metadata": {},
   "outputs": [
    {
     "data": {
      "text/plain": [
       "False"
      ]
     },
     "execution_count": 87,
     "metadata": {},
     "output_type": "execute_result"
    }
   ],
   "source": [
    "check_dict({\"hello\":5})"
   ]
  },
  {
   "cell_type": "code",
   "execution_count": 88,
   "id": "83789779-0e31-4a90-a960-36031a283754",
   "metadata": {},
   "outputs": [
    {
     "data": {
      "text/plain": [
       "True"
      ]
     },
     "execution_count": 88,
     "metadata": {},
     "output_type": "execute_result"
    }
   ],
   "source": [
    "check_dict({})"
   ]
  },
  {
   "cell_type": "code",
   "execution_count": 93,
   "id": "4e228eac-09aa-4620-8c35-e56c81c7b348",
   "metadata": {},
   "outputs": [],
   "source": [
    "dimension = {\"height\":12,\"width\":5,\"length\":15}\n",
    "l,w,h=dimension.values()\n",
    "V=l*w*h"
   ]
  },
  {
   "cell_type": "code",
   "execution_count": 104,
   "id": "1b146dd2-abbd-4429-8c7a-39f839aff2f0",
   "metadata": {},
   "outputs": [],
   "source": [
    "def matches (num, dict):\n",
    "    v = dict.values()\n",
    "    minm,maxm = min(dict.values()),max (dict.values()) \n",
    "    return num in (minm,maxm)\n"
   ]
  },
  {
   "cell_type": "code",
   "execution_count": 106,
   "id": "4a37fd39-7dbc-41d0-bce6-9a04cc65a3b6",
   "metadata": {},
   "outputs": [
    {
     "data": {
      "text/plain": [
       "True"
      ]
     },
     "execution_count": 106,
     "metadata": {},
     "output_type": "execute_result"
    }
   ],
   "source": [
    "matches(15,dimension)"
   ]
  },
  {
   "cell_type": "code",
   "execution_count": 109,
   "id": "7a47b3dc-520d-4f9b-bff6-ecea5db5004b",
   "metadata": {},
   "outputs": [],
   "source": [
    "#create a dictionary with each (key, value) pair being the (lower case, upper case) versions of a letter.\n",
    "import string\n",
    "\n",
    "uppercase_letters = list(string.ascii_uppercase)\n",
    "lowercase_letters = list(string.ascii_lowercase)\n",
    "dictionary = dict(zip(lowercase_letters, uppercase_letters))\n",
    "#for a particular list of letters :\n",
    "\n",
    "def mapping(letters):\n",
    "    dict_1 = {}\n",
    "    for i in letters:\n",
    "        dict_1[i]=i.upper()\n",
    "    return dict_1"
   ]
  },
  {
   "cell_type": "code",
   "execution_count": 110,
   "id": "bbf9b231-dbf4-4c33-a4fc-72872da33ef4",
   "metadata": {},
   "outputs": [
    {
     "data": {
      "text/plain": [
       "{'a': 'A',\n",
       " 'b': 'B',\n",
       " 'd': 'D',\n",
       " 'e': 'E',\n",
       " 'n': 'N',\n",
       " 'o': 'O',\n",
       " 'u': 'U',\n",
       " 'r': 'R'}"
      ]
     },
     "execution_count": 110,
     "metadata": {},
     "output_type": "execute_result"
    }
   ],
   "source": [
    "mapping(\"abdennour\")"
   ]
  },
  {
   "cell_type": "code",
   "execution_count": 113,
   "id": "c10fccc5-0ff3-4cfa-8142-849e2660dd18",
   "metadata": {},
   "outputs": [],
   "source": [
    "# maximum possible score a player can achieve by summing up the total number of points for all the tiles in their hand\n",
    "\n",
    "lst = [ { \"tile\": \"N\", \"score\": 1 },{ \"tile\": \"K\", \"score\": 5 }, { \"tile\": \"Z\", \"score\": 10 },\n",
    "  { \"tile\": \"X\", \"score\": 8 }, { \"tile\": \"D\", \"score\": 2 },{ \"tile\": \"A\", \"score\": 1 },\n",
    "  { \"tile\": \"E\", \"score\": 1 }]\n",
    "\n",
    "def sum_scr(lst ):\n",
    "    return  sum( i[\"score\"] for i in lst )"
   ]
  },
  {
   "cell_type": "code",
   "execution_count": 114,
   "id": "82dfd7b1-7a11-4837-a9e7-d28cf4e8d0fd",
   "metadata": {},
   "outputs": [
    {
     "data": {
      "text/plain": [
       "28"
      ]
     },
     "execution_count": 114,
     "metadata": {},
     "output_type": "execute_result"
    }
   ],
   "source": [
    "sum_scr (lst)"
   ]
  },
  {
   "cell_type": "code",
   "execution_count": 148,
   "id": "7b2a98f5-a897-4ea0-ba60-400f3d82e59f",
   "metadata": {},
   "outputs": [],
   "source": [
    "#occurence of each letter in the text\n",
    "\n",
    "strin = \"Python is the number 1 modern language from 4 programming languages\"\n",
    "\n",
    "def count_str(str):\n",
    "    return {i:strin.count(i) for i in str} \n",
    "        \n",
    "        "
   ]
  },
  {
   "cell_type": "code",
   "execution_count": 149,
   "id": "f64d48ff-d22d-4df4-b615-f34bfca34e98",
   "metadata": {},
   "outputs": [],
   "source": [
    "#takes a string and calculates the number of letters and digits within it\n",
    "def count_all(txt):\n",
    "  return {\n",
    "    'LETTERS': sum(1 for x in txt if x.isalpha()),\n",
    "    'DIGITS': sum(1 for x in txt if x.isnumeric()),\n",
    "  }"
   ]
  },
  {
   "cell_type": "code",
   "execution_count": 150,
   "id": "e4bf80d7-924f-452f-ae56-d460d6fec002",
   "metadata": {},
   "outputs": [
    {
     "data": {
      "text/plain": [
       "{'LETTERS': 55, 'DIGITS': 2}"
      ]
     },
     "execution_count": 150,
     "metadata": {},
     "output_type": "execute_result"
    }
   ],
   "source": [
    "strin = \"Python is the number 1 modern language from 4 programming languages\"\n",
    "\n",
    "set1 = count_all (strin)\n",
    "set1"
   ]
  },
  {
   "cell_type": "code",
   "execution_count": 151,
   "id": "23fc7cb4-17d3-4eeb-b4d8-bd124d3e0277",
   "metadata": {},
   "outputs": [
    {
     "data": {
      "text/plain": [
       "{'P': 1,\n",
       " 'y': 1,\n",
       " 't': 2,\n",
       " 'h': 2,\n",
       " 'o': 4,\n",
       " 'n': 6,\n",
       " ' ': 10,\n",
       " 'i': 2,\n",
       " 's': 2,\n",
       " 'e': 5,\n",
       " 'u': 3,\n",
       " 'm': 5,\n",
       " 'b': 1,\n",
       " 'r': 5,\n",
       " '1': 1,\n",
       " 'd': 1,\n",
       " 'l': 2,\n",
       " 'a': 5,\n",
       " 'g': 6,\n",
       " 'f': 1,\n",
       " '4': 1,\n",
       " 'p': 1}"
      ]
     },
     "execution_count": 151,
     "metadata": {},
     "output_type": "execute_result"
    }
   ],
   "source": [
    "count_str(strin)"
   ]
  },
  {
   "cell_type": "code",
   "execution_count": 128,
   "id": "0c070b72-eb07-4269-b96b-f2a350c6136e",
   "metadata": {},
   "outputs": [
    {
     "data": {
      "text/plain": [
       "{'A': 4, 'B': 1}"
      ]
     },
     "execution_count": 128,
     "metadata": {},
     "output_type": "execute_result"
    }
   ],
   "source": [
    "def get_frequencies(fs):\n",
    "    return {x:fs.count(x) for x in fs}\n",
    "get_frequencies([\"A\", \"B\", \"A\", \"A\", \"A\"])"
   ]
  },
  {
   "cell_type": "code",
   "execution_count": 154,
   "id": "7be18249-5a3c-4bc2-ba09-b444d832faec",
   "metadata": {},
   "outputs": [],
   "source": [
    "#to calculate the total profit made on the sales of a product\n",
    "def inventory(dict):\n",
    "\n",
    "    return round(dict[\"inventory\"]*(dict[\"sell_price\"]- dict[\"cost_price\"]))"
   ]
  },
  {
   "cell_type": "code",
   "execution_count": 155,
   "id": "0763bf54-5db6-4a17-878b-dcf6754c6108",
   "metadata": {},
   "outputs": [
    {
     "data": {
      "text/plain": [
       "14796"
      ]
     },
     "execution_count": 155,
     "metadata": {},
     "output_type": "execute_result"
    }
   ],
   "source": [
    "inventory({ \"cost_price\": 32.67, \"sell_price\": 45.00, \"inventory\": 1200})"
   ]
  },
  {
   "cell_type": "code",
   "execution_count": 159,
   "id": "f6908c0b-49a9-4c9f-9754-17e3a6d6be49",
   "metadata": {},
   "outputs": [],
   "source": [
    "\n",
    "class  Employee:\n",
    "    def __init__(self, f_name,l_name):\n",
    "        self.firstname = f_name\n",
    "        self.lastname = l_name\n",
    "        self.fullname= self.firstname + ' ' + self.lastname\n",
    "        self.email= \"{}.{}@company.com\".format(self.firstname,self.lastname).lower()\n",
    "        \n",
    "        \n",
    "empl_1 = Employee(\"John\", \"William\")\n",
    "empl_2 = Employee(\"Sara\",  \"Michel\")\n",
    "empl_3 = Employee(\"Suzy\", \"David\")\n",
    "    "
   ]
  },
  {
   "cell_type": "code",
   "execution_count": 162,
   "id": "3fd7e8b1-c823-4074-8955-f31628b4180f",
   "metadata": {},
   "outputs": [
    {
     "data": {
      "text/plain": [
       "'john.william@company.com'"
      ]
     },
     "execution_count": 162,
     "metadata": {},
     "output_type": "execute_result"
    }
   ],
   "source": [
    "\n",
    "empl_1.email"
   ]
  },
  {
   "cell_type": "code",
   "execution_count": 163,
   "id": "0c47d2b6-d6f4-4c98-b3ce-aba27aa54559",
   "metadata": {},
   "outputs": [
    {
     "data": {
      "text/plain": [
       "'John William'"
      ]
     },
     "execution_count": 163,
     "metadata": {},
     "output_type": "execute_result"
    }
   ],
   "source": [
    "empl_1.fullname"
   ]
  },
  {
   "cell_type": "code",
   "execution_count": 166,
   "id": "aa03c140-5e9b-4d71-b855-3844df6711d2",
   "metadata": {},
   "outputs": [],
   "source": [
    "# function that takes a dictionary and returns the keys and values as separate lists.\n",
    "def seperate(dict):\n",
    "    list_v = [ i for  i in dict.values()]\n",
    "    list_k = [ i for  i in dict.keys()]\n",
    "    return list_k,list_v"
   ]
  },
  {
   "cell_type": "code",
   "execution_count": 167,
   "id": "20fbd5ff-1527-4c6c-b3c5-84a9a815ac14",
   "metadata": {},
   "outputs": [
    {
     "data": {
      "text/plain": [
       "(['cost_price', 'sell_price', 'inventory'], [32.67, 45.0, 1200])"
      ]
     },
     "execution_count": 167,
     "metadata": {},
     "output_type": "execute_result"
    }
   ],
   "source": [
    "seperate({ \"cost_price\": 32.67, \"sell_price\": 45.00, \"inventory\": 1200})"
   ]
  },
  {
   "cell_type": "code",
   "execution_count": 168,
   "id": "4743fa8a-866f-4779-99fe-422cad4b545d",
   "metadata": {},
   "outputs": [],
   "source": [
    "def keys_and_values(d):\n",
    "    return list(map(list, zip(*sorted(d.items()))))\n"
   ]
  },
  {
   "cell_type": "code",
   "execution_count": 169,
   "id": "4664b57d-ef7f-427f-8283-5e7e2146601a",
   "metadata": {},
   "outputs": [
    {
     "data": {
      "text/plain": [
       "[['cost_price', 'inventory', 'sell_price'], [32.67, 1200, 45.0]]"
      ]
     },
     "execution_count": 169,
     "metadata": {},
     "output_type": "execute_result"
    }
   ],
   "source": [
    "keys_and_values({ \"cost_price\": 32.67, \"sell_price\": 45.00, \"inventory\": 1200})"
   ]
  },
  {
   "cell_type": "code",
   "execution_count": 170,
   "id": "2215cc4a-c0d9-494f-9f25-e8e018b7fe95",
   "metadata": {},
   "outputs": [
    {
     "data": {
      "text/plain": [
       "dict_items([('cost_price', 32.67), ('sell_price', 45.0), ('inventory', 1200)])"
      ]
     },
     "execution_count": 170,
     "metadata": {},
     "output_type": "execute_result"
    }
   ],
   "source": [
    "d ={ \"cost_price\": 32.67, \"sell_price\": 45.00, \"inventory\": 1200}\n",
    "d.items()"
   ]
  },
  {
   "cell_type": "code",
   "execution_count": 171,
   "id": "a4aef9b8-09c8-4059-bd38-ba65364bdd5a",
   "metadata": {},
   "outputs": [
    {
     "data": {
      "text/plain": [
       "[('cost_price', 32.67), ('inventory', 1200), ('sell_price', 45.0)]"
      ]
     },
     "execution_count": 171,
     "metadata": {},
     "output_type": "execute_result"
    }
   ],
   "source": [
    "sorted(d.items())"
   ]
  },
  {
   "cell_type": "code",
   "execution_count": 172,
   "id": "029fd666-f07d-435d-8486-a521ee368707",
   "metadata": {},
   "outputs": [
    {
     "data": {
      "text/plain": [
       "<zip at 0x1ec5a8d4d00>"
      ]
     },
     "execution_count": 172,
     "metadata": {},
     "output_type": "execute_result"
    }
   ],
   "source": [
    "zip(*sorted(d.items()))"
   ]
  },
  {
   "cell_type": "code",
   "execution_count": 175,
   "id": "43ca5a77-3dec-4aa9-98e7-791785c1e9e4",
   "metadata": {},
   "outputs": [
    {
     "data": {
      "text/plain": [
       "[['cost_price', 'inventory', 'sell_price'], [32.67, 1200, 45.0]]"
      ]
     },
     "execution_count": 175,
     "metadata": {},
     "output_type": "execute_result"
    }
   ],
   "source": [
    "list(map(list, zip(*sorted(d.items()))))\n"
   ]
  },
  {
   "cell_type": "code",
   "execution_count": 181,
   "id": "e2124577-194d-4e0f-9cfe-27bd6961aee9",
   "metadata": {},
   "outputs": [],
   "source": [
    "#Given a word, create a dictionary that stores the indexes of each letter in a list.\n",
    "def index_letter (word):\n",
    "    dict = {i:[] for i in word }\n",
    "    i=0\n",
    "    while i<len(word):\n",
    "        dict[word[i]].append(i)\n",
    "        i+=1\n",
    "    return dict\n",
    "        \n",
    "        \n",
    "        "
   ]
  },
  {
   "cell_type": "code",
   "execution_count": 182,
   "id": "9ad198f4-da46-488f-b199-0ff1ada312de",
   "metadata": {},
   "outputs": [
    {
     "data": {
      "text/plain": [
       "{'n': [0], 'o': [1], 'u': [2], 'r': [3], 'i': [4, 5]}"
      ]
     },
     "execution_count": 182,
     "metadata": {},
     "output_type": "execute_result"
    }
   ],
   "source": [
    "word = \"nourii\"\n",
    "index_letter(word)"
   ]
  },
  {
   "cell_type": "code",
   "execution_count": 193,
   "id": "9abde088-295d-43d4-b7bb-be77d233d867",
   "metadata": {},
   "outputs": [
    {
     "data": {
      "text/plain": [
       "'kh'"
      ]
     },
     "execution_count": 193,
     "metadata": {},
     "output_type": "execute_result"
    }
   ],
   "source": [
    "# You will only have to return the students name. You do not need to return their Test Average.\n",
    "import statistics\n",
    "students = {'med':[1,15,17], 'kh':[10,17,15]}\n",
    "\n",
    "def better_stud(students):\n",
    "    maxim =  max (statistics.mean(v)  for v in students.values())\n",
    "    for k,v in students.items():\n",
    "        if statistics.mean(v) == maxim:\n",
    "            return k \n",
    "better_stud(students)"
   ]
  },
  {
   "cell_type": "code",
   "execution_count": 196,
   "id": "c344728a-065b-4ca2-93b8-274120eb166a",
   "metadata": {},
   "outputs": [
    {
     "data": {
      "text/plain": [
       "'kh'"
      ]
     },
     "execution_count": 196,
     "metadata": {},
     "output_type": "execute_result"
    }
   ],
   "source": [
    "def best_student(students):\n",
    "    best_average = 0\n",
    "    best_student = None\n",
    "\n",
    "    for student, grades in students.items():\n",
    "        average = sum(grades) / len(grades)\n",
    "\n",
    "        if average > best_average:\n",
    "            best_average = average\n",
    "            best_student = student\n",
    "\n",
    "    return best_student\n",
    "best_student(students)"
   ]
  },
  {
   "cell_type": "code",
   "execution_count": null,
   "id": "8a798296-52f7-49be-82c4-1d324f185f43",
   "metadata": {},
   "outputs": [],
   "source": []
  }
 ],
 "metadata": {
  "kernelspec": {
   "display_name": "Python 3 (ipykernel)",
   "language": "python",
   "name": "python3"
  },
  "language_info": {
   "codemirror_mode": {
    "name": "ipython",
    "version": 3
   },
   "file_extension": ".py",
   "mimetype": "text/x-python",
   "name": "python",
   "nbconvert_exporter": "python",
   "pygments_lexer": "ipython3",
   "version": "3.10.2"
  }
 },
 "nbformat": 4,
 "nbformat_minor": 5
}
