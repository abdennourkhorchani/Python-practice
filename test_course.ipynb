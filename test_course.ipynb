{
 "cells": [
  {
   "cell_type": "markdown",
   "id": "4f3eaef2-52e9-49ca-9afa-0551db4cb266",
   "metadata": {},
   "source": [
    "##### for = 2\n",
    "print(for)\n",
    "\n",
    "    "
   ]
  },
  {
   "cell_type": "code",
   "execution_count": 2,
   "id": "62fdc6be-48b4-41a0-a474-72b672f22882",
   "metadata": {},
   "outputs": [
    {
     "data": {
      "text/plain": [
       "1.5"
      ]
     },
     "execution_count": 2,
     "metadata": {},
     "output_type": "execute_result"
    }
   ],
   "source": [
    "3/2"
   ]
  },
  {
   "cell_type": "code",
   "execution_count": 12,
   "id": "051ed713-dd58-44be-b70a-2ab06379ea6d",
   "metadata": {},
   "outputs": [
    {
     "name": "stdout",
     "output_type": "stream",
     "text": [
      "<class 'float'>\n"
     ]
    }
   ],
   "source": [
    "test:i =5.5\n",
    "print(type(test))"
   ]
  },
  {
   "cell_type": "code",
   "execution_count": 9,
   "id": "d8fb24da-8b79-4191-a459-a8ae2f3eeb28",
   "metadata": {},
   "outputs": [
    {
     "data": {
      "text/plain": [
       "5"
      ]
     },
     "execution_count": 9,
     "metadata": {},
     "output_type": "execute_result"
    }
   ],
   "source": [
    "10//2"
   ]
  },
  {
   "cell_type": "code",
   "execution_count": 16,
   "id": "19bcf2ae-2e28-415a-837b-fbea9ba5b476",
   "metadata": {},
   "outputs": [
    {
     "name": "stdout",
     "output_type": "stream",
     "text": [
      "hello world, my name is pedro, my car color isred\n"
     ]
    }
   ],
   "source": [
    "name ='pedro'\n",
    "car_color='red'\n",
    "variable = 'hello world, my name is {}, my car color is {}'.format(name,car_color)\n",
    "print(variable)"
   ]
  },
  {
   "cell_type": "code",
   "execution_count": 27,
   "id": "8f5b42d7-e5cd-4cf0-a288-f5fd0ab46356",
   "metadata": {},
   "outputs": [
    {
     "name": "stdout",
     "output_type": "stream",
     "text": [
      "bdennour\n"
     ]
    }
   ],
   "source": [
    "name = 'abdennour'\n",
    "print(name[1:])"
   ]
  },
  {
   "cell_type": "code",
   "execution_count": 35,
   "id": "c207a616-b378-4656-a03d-70d086bd2604",
   "metadata": {},
   "outputs": [
    {
     "data": {
      "text/plain": [
       "1"
      ]
     },
     "execution_count": 35,
     "metadata": {},
     "output_type": "execute_result"
    }
   ],
   "source": [
    "name.count('n',2,5)"
   ]
  },
  {
   "cell_type": "code",
   "execution_count": 38,
   "id": "a7d457d7-af6a-43aa-9f40-b0bf6a13c741",
   "metadata": {},
   "outputs": [
    {
     "data": {
      "text/plain": [
       "True"
      ]
     },
     "execution_count": 38,
     "metadata": {},
     "output_type": "execute_result"
    }
   ],
   "source": [
    "name.endswith('ur')"
   ]
  },
  {
   "cell_type": "code",
   "execution_count": 43,
   "id": "7de7c4ef-d87d-4683-a759-978ef1fbf813",
   "metadata": {},
   "outputs": [
    {
     "data": {
      "text/plain": [
       "False"
      ]
     },
     "execution_count": 43,
     "metadata": {},
     "output_type": "execute_result"
    }
   ],
   "source": [
    "name.startswith('abd',0,2)"
   ]
  },
  {
   "cell_type": "code",
   "execution_count": 44,
   "id": "d17b30b7-3d44-4d41-89d2-c356cf9fbbee",
   "metadata": {},
   "outputs": [
    {
     "data": {
      "text/plain": [
       "0"
      ]
     },
     "execution_count": 44,
     "metadata": {},
     "output_type": "execute_result"
    }
   ],
   "source": [
    "name.find('abd')"
   ]
  },
  {
   "cell_type": "code",
   "execution_count": 50,
   "id": "ac058e6d-ef6b-4a5f-a98d-6064e62ad34e",
   "metadata": {},
   "outputs": [
    {
     "data": {
      "text/plain": [
       "4"
      ]
     },
     "execution_count": 50,
     "metadata": {},
     "output_type": "execute_result"
    }
   ],
   "source": [
    "name.find('n',4)"
   ]
  },
  {
   "cell_type": "code",
   "execution_count": 52,
   "id": "118a5960-653b-4877-9018-e4b680cd2fce",
   "metadata": {},
   "outputs": [
    {
     "data": {
      "text/plain": [
       "5"
      ]
     },
     "execution_count": 52,
     "metadata": {},
     "output_type": "execute_result"
    }
   ],
   "source": [
    "name.index('n',5)"
   ]
  },
  {
   "cell_type": "code",
   "execution_count": 58,
   "id": "1c0d78db-a17f-494a-853e-275e029a788a",
   "metadata": {},
   "outputs": [
    {
     "data": {
      "text/plain": [
       "0"
      ]
     },
     "execution_count": 58,
     "metadata": {},
     "output_type": "execute_result"
    }
   ],
   "source": [
    "name.index('abd')"
   ]
  },
  {
   "cell_type": "code",
   "execution_count": 57,
   "id": "8bb961f5-15f4-4203-8c57-8ef6685f2d72",
   "metadata": {},
   "outputs": [
    {
     "data": {
      "text/plain": [
       "4"
      ]
     },
     "execution_count": 57,
     "metadata": {},
     "output_type": "execute_result"
    }
   ],
   "source": [
    "name.index('n')"
   ]
  },
  {
   "cell_type": "code",
   "execution_count": 61,
   "id": "dbd1c4a9-adbc-4649-a79e-e8ca37ac5a1c",
   "metadata": {},
   "outputs": [
    {
     "data": {
      "text/plain": [
       "True"
      ]
     },
     "execution_count": 61,
     "metadata": {},
     "output_type": "execute_result"
    }
   ],
   "source": [
    "name.islower()"
   ]
  },
  {
   "cell_type": "code",
   "execution_count": 62,
   "id": "a9a260b9-d326-4f46-b164-896e32e405d3",
   "metadata": {},
   "outputs": [
    {
     "data": {
      "text/plain": [
       "'ABDENNOUR'"
      ]
     },
     "execution_count": 62,
     "metadata": {},
     "output_type": "execute_result"
    }
   ],
   "source": [
    "name.upper()"
   ]
  },
  {
   "cell_type": "code",
   "execution_count": 63,
   "id": "d769d6dd-be5a-4480-91bb-0c2914fbf220",
   "metadata": {},
   "outputs": [
    {
     "name": "stdout",
     "output_type": "stream",
     "text": [
      "abdennour\n"
     ]
    }
   ],
   "source": [
    "print(name)"
   ]
  },
  {
   "cell_type": "code",
   "execution_count": 67,
   "id": "d1e5172e-08e7-4c29-915c-dd5627d642a9",
   "metadata": {},
   "outputs": [
    {
     "data": {
      "text/plain": [
       "'ABDENNOUR'"
      ]
     },
     "execution_count": 67,
     "metadata": {},
     "output_type": "execute_result"
    }
   ],
   "source": [
    "name.swapcase()"
   ]
  },
  {
   "cell_type": "code",
   "execution_count": 70,
   "id": "a5af5617-2cd6-43d9-8420-6d20dbb8e4de",
   "metadata": {},
   "outputs": [
    {
     "data": {
      "text/plain": [
       "'Hello World'"
      ]
     },
     "execution_count": 70,
     "metadata": {},
     "output_type": "execute_result"
    }
   ],
   "source": [
    "'hello worLD'.title()"
   ]
  },
  {
   "cell_type": "code",
   "execution_count": 71,
   "id": "1fae0fc1-8079-4f9a-853d-385636236f00",
   "metadata": {},
   "outputs": [
    {
     "data": {
      "text/plain": [
       "'Abdennour'"
      ]
     },
     "execution_count": 71,
     "metadata": {},
     "output_type": "execute_result"
    }
   ],
   "source": [
    "name.capitalize()"
   ]
  },
  {
   "cell_type": "code",
   "execution_count": 74,
   "id": "6fe60419-01f4-4633-bedf-ec3f18f50a09",
   "metadata": {},
   "outputs": [
    {
     "data": {
      "text/plain": [
       "'h.e.4.5.l.o. .w.o.r.l.d'"
      ]
     },
     "execution_count": 74,
     "metadata": {},
     "output_type": "execute_result"
    }
   ],
   "source": [
    "'.'.join('he45lo world')"
   ]
  },
  {
   "cell_type": "code",
   "execution_count": 78,
   "id": "aec3fdf2-538f-43bb-aa79-3e6888a410c9",
   "metadata": {},
   "outputs": [
    {
     "data": {
      "text/plain": [
       "'abdeknour'"
      ]
     },
     "execution_count": 78,
     "metadata": {},
     "output_type": "execute_result"
    }
   ],
   "source": [
    "name.replace('n','k',1)"
   ]
  },
  {
   "cell_type": "code",
   "execution_count": 84,
   "id": "88d1ddc6-92ca-47e5-a12c-57f398247be5",
   "metadata": {},
   "outputs": [
    {
     "data": {
      "text/plain": [
       "'hello'"
      ]
     },
     "execution_count": 84,
     "metadata": {},
     "output_type": "execute_result"
    }
   ],
   "source": [
    "'   hello   '.strip()"
   ]
  },
  {
   "cell_type": "code",
   "execution_count": 86,
   "id": "d6b6dac3-dcb8-42a1-afb6-08d6d0eba1cd",
   "metadata": {},
   "outputs": [
    {
     "name": "stdin",
     "output_type": "stream",
     "text": [
      "enter your name pedro\n"
     ]
    },
    {
     "name": "stdout",
     "output_type": "stream",
     "text": [
      "pedro\n"
     ]
    }
   ],
   "source": [
    "hello = input ('enter your name')\n",
    "print(hello)"
   ]
  },
  {
   "cell_type": "code",
   "execution_count": 90,
   "id": "94b95baa-a8f8-4aa2-95af-77a19cf325d4",
   "metadata": {},
   "outputs": [
    {
     "name": "stdout",
     "output_type": "stream",
     "text": [
      "i'm fine\n"
     ]
    }
   ],
   "source": [
    "print('i\\'m fine' )"
   ]
  },
  {
   "cell_type": "code",
   "execution_count": 14,
   "id": "ee83d385-bd76-4cd7-b35a-e4672710f038",
   "metadata": {},
   "outputs": [
    {
     "data": {
      "text/plain": [
       "1.0"
      ]
     },
     "execution_count": 14,
     "metadata": {},
     "output_type": "execute_result"
    }
   ],
   "source": [
    "float(True)"
   ]
  },
  {
   "cell_type": "code",
   "execution_count": 15,
   "id": "b1d42fae-6798-4f1e-88db-089c982c1373",
   "metadata": {},
   "outputs": [
    {
     "data": {
      "text/plain": [
       "True"
      ]
     },
     "execution_count": 15,
     "metadata": {},
     "output_type": "execute_result"
    }
   ],
   "source": [
    "1==1.0"
   ]
  },
  {
   "cell_type": "code",
   "execution_count": 16,
   "id": "ed511131-cd7d-48fe-b5a9-79d4d2644abd",
   "metadata": {},
   "outputs": [
    {
     "data": {
      "text/plain": [
       "'10.0'"
      ]
     },
     "execution_count": 16,
     "metadata": {},
     "output_type": "execute_result"
    }
   ],
   "source": [
    "str('10.0')"
   ]
  },
  {
   "cell_type": "code",
   "execution_count": 18,
   "id": "f2eff3d4-2014-45d6-a0be-d155e71d9991",
   "metadata": {},
   "outputs": [
    {
     "data": {
      "text/plain": [
       "'True'"
      ]
     },
     "execution_count": 18,
     "metadata": {},
     "output_type": "execute_result"
    }
   ],
   "source": [
    "str(True)"
   ]
  },
  {
   "cell_type": "code",
   "execution_count": 24,
   "id": "f92b4d80-fc77-4428-a034-789605cd0b29",
   "metadata": {},
   "outputs": [
    {
     "data": {
      "text/plain": [
       "(1+0j)"
      ]
     },
     "execution_count": 24,
     "metadata": {},
     "output_type": "execute_result"
    }
   ],
   "source": [
    "complex(True\n",
    "        ,False)"
   ]
  },
  {
   "cell_type": "code",
   "execution_count": 28,
   "id": "bedbfc4f-edba-4e1d-97e2-af268811c7bd",
   "metadata": {},
   "outputs": [
    {
     "data": {
      "text/plain": [
       "97"
      ]
     },
     "execution_count": 28,
     "metadata": {},
     "output_type": "execute_result"
    }
   ],
   "source": [
    "ord('a')"
   ]
  },
  {
   "cell_type": "code",
   "execution_count": 36,
   "id": "cfbc5a23-0270-4734-9aa5-56a4a2e20971",
   "metadata": {},
   "outputs": [
    {
     "data": {
      "text/plain": [
       "True"
      ]
     },
     "execution_count": 36,
     "metadata": {},
     "output_type": "execute_result"
    }
   ],
   "source": [
    "bool('10')"
   ]
  },
  {
   "cell_type": "code",
   "execution_count": 47,
   "id": "97b2f472-55c6-46b6-9a14-7b88a6943d9e",
   "metadata": {},
   "outputs": [],
   "source": [
    "det = dict(pedro=10, elyes=12, helen='hello')"
   ]
  },
  {
   "cell_type": "code",
   "execution_count": 51,
   "id": "4081c363-c83a-4949-8108-1a275f6ae3ba",
   "metadata": {},
   "outputs": [],
   "source": [
    "det2 = {'pedro':10, 'gedo':'hello','elyes':12.0}"
   ]
  },
  {
   "cell_type": "code",
   "execution_count": 52,
   "id": "d1194bb9-d10e-4937-bc9e-807f8a2a1f17",
   "metadata": {},
   "outputs": [
    {
     "data": {
      "text/plain": [
       "{'pedro': 10, 'gedo': 'hello', 'elyes': 12.0}"
      ]
     },
     "execution_count": 52,
     "metadata": {},
     "output_type": "execute_result"
    }
   ],
   "source": [
    "det2"
   ]
  },
  {
   "cell_type": "code",
   "execution_count": 53,
   "id": "1022367b-3666-4210-924d-9134e72eef79",
   "metadata": {},
   "outputs": [
    {
     "data": {
      "text/plain": [
       "dict"
      ]
     },
     "execution_count": 53,
     "metadata": {},
     "output_type": "execute_result"
    }
   ],
   "source": [
    "type(det2)"
   ]
  },
  {
   "cell_type": "code",
   "execution_count": 57,
   "id": "fd01df13-6c25-411b-a521-06b347374231",
   "metadata": {},
   "outputs": [
    {
     "data": {
      "text/plain": [
       "10"
      ]
     },
     "execution_count": 57,
     "metadata": {},
     "output_type": "execute_result"
    }
   ],
   "source": [
    "det2['pedro']"
   ]
  },
  {
   "cell_type": "code",
   "execution_count": 61,
   "id": "f81c6e3c-2906-4f4c-b981-85e097e066bd",
   "metadata": {},
   "outputs": [
    {
     "name": "stdout",
     "output_type": "stream",
     "text": [
      "pedro:10\n",
      "gedo:hello\n",
      "elyes:12.0\n"
     ]
    }
   ],
   "source": [
    "for k,v in det2.items():\n",
    "    print('{}:{}'.format(k,v)\n",
    "         )"
   ]
  },
  {
   "cell_type": "code",
   "execution_count": 63,
   "id": "2cafabc1-68cf-4b52-8d00-b68df88b9d7e",
   "metadata": {},
   "outputs": [
    {
     "data": {
      "text/plain": [
       "{'pedro': 10, 'gedo': 'hello', 'elyes': 12.0, 'helen': True}"
      ]
     },
     "execution_count": 63,
     "metadata": {},
     "output_type": "execute_result"
    }
   ],
   "source": [
    "det2['helen']=True\n",
    "det2"
   ]
  },
  {
   "cell_type": "code",
   "execution_count": 64,
   "id": "b02f48ad-d4ce-44e8-a30f-42a373f319d2",
   "metadata": {},
   "outputs": [
    {
     "data": {
      "text/plain": [
       "{'pedro': 10, 'gedo': 'hello', 'elyes': 12.0, 'helen': False}"
      ]
     },
     "execution_count": 64,
     "metadata": {},
     "output_type": "execute_result"
    }
   ],
   "source": [
    "det2['helen']=False\n",
    "det2\n"
   ]
  },
  {
   "cell_type": "code",
   "execution_count": 65,
   "id": "6fd5dede-2307-440c-baf7-081391c22c36",
   "metadata": {},
   "outputs": [],
   "source": [
    "del det2['gedo']"
   ]
  },
  {
   "cell_type": "code",
   "execution_count": 66,
   "id": "6e33536f-c3a8-4b4f-bb91-a0bbf1b765eb",
   "metadata": {},
   "outputs": [
    {
     "data": {
      "text/plain": [
       "{'pedro': 10, 'elyes': 12.0, 'helen': False}"
      ]
     },
     "execution_count": 66,
     "metadata": {},
     "output_type": "execute_result"
    }
   ],
   "source": [
    "det2"
   ]
  },
  {
   "cell_type": "code",
   "execution_count": 67,
   "id": "2761cde4-e065-4c6b-817c-967156d636dd",
   "metadata": {},
   "outputs": [
    {
     "name": "stdout",
     "output_type": "stream",
     "text": [
      "12.0\n"
     ]
    }
   ],
   "source": [
    "print(det2['elyes'])"
   ]
  },
  {
   "cell_type": "code",
   "execution_count": 68,
   "id": "6f301fbd-5424-4ecb-9ff2-4785901324e5",
   "metadata": {},
   "outputs": [],
   "source": [
    "t= det2.get('elyes')"
   ]
  },
  {
   "cell_type": "code",
   "execution_count": 69,
   "id": "91490559-a25d-4131-bb39-a6b8ffe7b26f",
   "metadata": {},
   "outputs": [
    {
     "data": {
      "text/plain": [
       "12.0"
      ]
     },
     "execution_count": 69,
     "metadata": {},
     "output_type": "execute_result"
    }
   ],
   "source": [
    "t"
   ]
  },
  {
   "cell_type": "code",
   "execution_count": 74,
   "id": "1d35c539-aac5-41f8-bd91-682ff3673f0b",
   "metadata": {},
   "outputs": [
    {
     "data": {
      "text/plain": [
       "True"
      ]
     },
     "execution_count": 74,
     "metadata": {},
     "output_type": "execute_result"
    }
   ],
   "source": [
    "10.0 in det2.values()"
   ]
  },
  {
   "cell_type": "code",
   "execution_count": 75,
   "id": "26467313-2cc0-4c68-bd55-3b213dabeafd",
   "metadata": {},
   "outputs": [
    {
     "data": {
      "text/plain": [
       "dict_items([('pedro', 10), ('elyes', 12.0), ('helen', False)])"
      ]
     },
     "execution_count": 75,
     "metadata": {},
     "output_type": "execute_result"
    }
   ],
   "source": [
    "det2.items()"
   ]
  },
  {
   "cell_type": "code",
   "execution_count": 77,
   "id": "b0a02c97-2883-45d6-9509-304515bf8372",
   "metadata": {},
   "outputs": [
    {
     "data": {
      "text/plain": [
       "3"
      ]
     },
     "execution_count": 77,
     "metadata": {},
     "output_type": "execute_result"
    }
   ],
   "source": [
    "len(det2)"
   ]
  },
  {
   "cell_type": "code",
   "execution_count": 78,
   "id": "b1e2ed21-cc80-4290-a122-b3e65b34f093",
   "metadata": {},
   "outputs": [],
   "source": [
    "det2.update(det)\n"
   ]
  },
  {
   "cell_type": "code",
   "execution_count": 79,
   "id": "67ecebbf-3ece-4387-960b-6a795d51d538",
   "metadata": {},
   "outputs": [
    {
     "data": {
      "text/plain": [
       "{'pedro': 10, 'elyes': 12, 'helen': 'hello'}"
      ]
     },
     "execution_count": 79,
     "metadata": {},
     "output_type": "execute_result"
    }
   ],
   "source": [
    "det"
   ]
  },
  {
   "cell_type": "code",
   "execution_count": 80,
   "id": "f2bf6521-b695-44ec-887e-6e389abedad5",
   "metadata": {},
   "outputs": [
    {
     "data": {
      "text/plain": [
       "{'pedro': 10, 'elyes': 12, 'helen': 'hello'}"
      ]
     },
     "execution_count": 80,
     "metadata": {},
     "output_type": "execute_result"
    }
   ],
   "source": [
    "det2"
   ]
  },
  {
   "cell_type": "code",
   "execution_count": 11,
   "id": "4e898851-9ac2-44a7-a59a-969ca25116bc",
   "metadata": {},
   "outputs": [
    {
     "data": {
      "text/plain": [
       "{'hi': 'hey', 'buy': 'tickets', 'old': 'age'}"
      ]
     },
     "execution_count": 11,
     "metadata": {},
     "output_type": "execute_result"
    }
   ],
   "source": [
    "det1 = dict(hi='hey', buy='tickets',old='age')\n",
    "det2 = dict(hey='hi', tickets='buy',age='old')\n",
    "det1"
   ]
  },
  {
   "cell_type": "code",
   "execution_count": 131,
   "id": "5d06d233-ba88-4dc9-a136-2883fe9d8ee3",
   "metadata": {},
   "outputs": [],
   "source": [
    "det2.update(det1)"
   ]
  },
  {
   "cell_type": "code",
   "execution_count": 12,
   "id": "ca2f24f2-5f5d-4345-8874-6dca0a514fbd",
   "metadata": {},
   "outputs": [
    {
     "name": "stdout",
     "output_type": "stream",
     "text": [
      "hi:hey\n",
      "buy:tickets\n",
      "old:age\n"
     ]
    }
   ],
   "source": [
    "for k,v in det1.items():\n",
    "    print('{}:{}'.format(k,v))"
   ]
  },
  {
   "cell_type": "code",
   "execution_count": 132,
   "id": "949e93e8-57fe-490c-83d0-272df27ed898",
   "metadata": {
    "scrolled": true
   },
   "outputs": [
    {
     "data": {
      "text/plain": [
       "{'hey': 'hi',\n",
       " 'tickets': 'buy',\n",
       " 'age': 'old',\n",
       " 'hi': 'hey',\n",
       " 'buy': 'tickets',\n",
       " 'old': 'age'}"
      ]
     },
     "execution_count": 132,
     "metadata": {},
     "output_type": "execute_result"
    }
   ],
   "source": [
    "det2"
   ]
  },
  {
   "cell_type": "code",
   "execution_count": 133,
   "id": "9cede0a6-bcd6-47d1-8a77-534ce6f4c16a",
   "metadata": {},
   "outputs": [
    {
     "data": {
      "text/plain": [
       "{'hi': 'hey', 'buy': 'tickets', 'old': 'age'}"
      ]
     },
     "execution_count": 133,
     "metadata": {},
     "output_type": "execute_result"
    }
   ],
   "source": [
    "det1"
   ]
  },
  {
   "cell_type": "code",
   "execution_count": 135,
   "id": "f6faa8f9-3b67-40e7-8581-80b49b98ccb9",
   "metadata": {},
   "outputs": [],
   "source": [
    "det1.update(det2)"
   ]
  },
  {
   "cell_type": "code",
   "execution_count": 136,
   "id": "9b71af21-3aff-477b-81c8-c99ca14607f3",
   "metadata": {},
   "outputs": [
    {
     "data": {
      "text/plain": [
       "{'hi': 'hey',\n",
       " 'buy': 'tickets',\n",
       " 'old': 'age',\n",
       " 'hey': 'hi',\n",
       " 'tickets': 'buy',\n",
       " 'age': 'old'}"
      ]
     },
     "execution_count": 136,
     "metadata": {},
     "output_type": "execute_result"
    }
   ],
   "source": [
    "det1"
   ]
  },
  {
   "cell_type": "code",
   "execution_count": 137,
   "id": "25b5e893-7f6f-4b03-955a-f1f44b5db894",
   "metadata": {},
   "outputs": [
    {
     "data": {
      "text/plain": [
       "{'hey': 'hi', 'tickets': 'buy', 'age': 'old'}"
      ]
     },
     "execution_count": 137,
     "metadata": {},
     "output_type": "execute_result"
    }
   ],
   "source": [
    "det2"
   ]
  },
  {
   "cell_type": "code",
   "execution_count": 138,
   "id": "c17d33f2-ac66-4b8c-9a41-5693eee1f1b5",
   "metadata": {},
   "outputs": [
    {
     "data": {
      "text/plain": [
       "dict_keys(['hey', 'tickets', 'age'])"
      ]
     },
     "execution_count": 138,
     "metadata": {},
     "output_type": "execute_result"
    }
   ],
   "source": [
    "det2.keys()"
   ]
  },
  {
   "cell_type": "code",
   "execution_count": 139,
   "id": "0a8902dc-5603-4385-b597-4a589b536482",
   "metadata": {},
   "outputs": [
    {
     "data": {
      "text/plain": [
       "dict_values(['hi', 'buy', 'old'])"
      ]
     },
     "execution_count": 139,
     "metadata": {},
     "output_type": "execute_result"
    }
   ],
   "source": [
    "det2.values()"
   ]
  },
  {
   "cell_type": "code",
   "execution_count": 140,
   "id": "84d7c91c-b1de-42b8-93cd-73c02f18a566",
   "metadata": {},
   "outputs": [
    {
     "data": {
      "text/plain": [
       "{'hey': 'hi', 'tickets': 'buy', 'age': 'old'}"
      ]
     },
     "execution_count": 140,
     "metadata": {},
     "output_type": "execute_result"
    }
   ],
   "source": [
    "det2.copy()"
   ]
  },
  {
   "cell_type": "code",
   "execution_count": 142,
   "id": "863c2b44-4ef5-4ff2-870b-8afcaae528a1",
   "metadata": {},
   "outputs": [],
   "source": [
    "det3= det2.copy()"
   ]
  },
  {
   "cell_type": "code",
   "execution_count": 143,
   "id": "ee88f04a-0be0-4faf-8a17-c3a45ec24d8c",
   "metadata": {},
   "outputs": [
    {
     "data": {
      "text/plain": [
       "{'hey': 'hi', 'tickets': 'buy', 'age': 'old'}"
      ]
     },
     "execution_count": 143,
     "metadata": {},
     "output_type": "execute_result"
    }
   ],
   "source": [
    "det3"
   ]
  },
  {
   "cell_type": "code",
   "execution_count": 145,
   "id": "9baaa7a6-d3d7-436f-9b4b-caf0fe145dea",
   "metadata": {},
   "outputs": [
    {
     "data": {
      "text/plain": [
       "'hi'"
      ]
     },
     "execution_count": 145,
     "metadata": {},
     "output_type": "execute_result"
    }
   ],
   "source": [
    "det3.pop('hey')"
   ]
  },
  {
   "cell_type": "code",
   "execution_count": 146,
   "id": "6ee7d7fb-65c6-4f83-8bc7-3cbd94c37d11",
   "metadata": {},
   "outputs": [
    {
     "data": {
      "text/plain": [
       "{'tickets': 'buy', 'age': 'old'}"
      ]
     },
     "execution_count": 146,
     "metadata": {},
     "output_type": "execute_result"
    }
   ],
   "source": [
    "det3"
   ]
  },
  {
   "cell_type": "code",
   "execution_count": 147,
   "id": "ac17a6b1-4089-4080-82be-5e613608f080",
   "metadata": {},
   "outputs": [
    {
     "data": {
      "text/plain": [
       "'buy'"
      ]
     },
     "execution_count": 147,
     "metadata": {},
     "output_type": "execute_result"
    }
   ],
   "source": [
    "det3.pop('tickets','age')"
   ]
  },
  {
   "cell_type": "code",
   "execution_count": 148,
   "id": "35dc702e-4b0f-4d95-bf15-cca4eedcfa24",
   "metadata": {},
   "outputs": [
    {
     "data": {
      "text/plain": [
       "{'age': 'old'}"
      ]
     },
     "execution_count": 148,
     "metadata": {},
     "output_type": "execute_result"
    }
   ],
   "source": [
    "det3"
   ]
  },
  {
   "cell_type": "code",
   "execution_count": 149,
   "id": "c55f55c9-de83-4a41-8348-90cdb60fea46",
   "metadata": {},
   "outputs": [
    {
     "data": {
      "text/plain": [
       "('age', 'old')"
      ]
     },
     "execution_count": 149,
     "metadata": {},
     "output_type": "execute_result"
    }
   ],
   "source": [
    "det2.popitem()"
   ]
  },
  {
   "cell_type": "code",
   "execution_count": 150,
   "id": "a1a66953-3aff-46b5-a0eb-5552c1e9981f",
   "metadata": {},
   "outputs": [],
   "source": [
    "b = det3.pop('age')"
   ]
  },
  {
   "cell_type": "code",
   "execution_count": 151,
   "id": "fa871c06-5fad-48ef-a93a-ab6cecbbb7e2",
   "metadata": {},
   "outputs": [
    {
     "data": {
      "text/plain": [
       "'old'"
      ]
     },
     "execution_count": 151,
     "metadata": {},
     "output_type": "execute_result"
    }
   ],
   "source": [
    "b"
   ]
  },
  {
   "cell_type": "code",
   "execution_count": 152,
   "id": "f9b74bc0-cb1a-46ad-88f7-bbfa92fc2800",
   "metadata": {},
   "outputs": [],
   "source": [
    "b =det2.popitem()"
   ]
  },
  {
   "cell_type": "code",
   "execution_count": 153,
   "id": "fb220d75-8df9-457e-8124-6677cf15094d",
   "metadata": {},
   "outputs": [
    {
     "data": {
      "text/plain": [
       "('tickets', 'buy')"
      ]
     },
     "execution_count": 153,
     "metadata": {},
     "output_type": "execute_result"
    }
   ],
   "source": [
    "b"
   ]
  },
  {
   "cell_type": "code",
   "execution_count": 154,
   "id": "52bb3e45-457b-4210-bfb6-e8e137b2dda3",
   "metadata": {},
   "outputs": [
    {
     "data": {
      "text/plain": [
       "{'hey': 'hi'}"
      ]
     },
     "execution_count": 154,
     "metadata": {},
     "output_type": "execute_result"
    }
   ],
   "source": [
    "det2\n"
   ]
  },
  {
   "cell_type": "code",
   "execution_count": 157,
   "id": "99326f75-0c29-4da0-8faf-8ac97fa81ac8",
   "metadata": {},
   "outputs": [
    {
     "data": {
      "text/plain": [
       "'hi'"
      ]
     },
     "execution_count": 157,
     "metadata": {},
     "output_type": "execute_result"
    }
   ],
   "source": [
    "det2.setdefault('hey',0)"
   ]
  },
  {
   "cell_type": "code",
   "execution_count": 158,
   "id": "95f98bbf-5935-49fd-85e4-f18912011c70",
   "metadata": {},
   "outputs": [
    {
     "data": {
      "text/plain": [
       "{'pedro': 10, 'elyes': 12, 'helen': 'hello'}"
      ]
     },
     "execution_count": 158,
     "metadata": {},
     "output_type": "execute_result"
    }
   ],
   "source": [
    "det"
   ]
  },
  {
   "cell_type": "code",
   "execution_count": 163,
   "id": "b18c01e5-96b9-45dd-baf2-52318b227cff",
   "metadata": {},
   "outputs": [
    {
     "ename": "AttributeError",
     "evalue": "'dict' object has no attribute 'sorted'",
     "output_type": "error",
     "traceback": [
      "\u001b[1;31m---------------------------------------------------------------------------\u001b[0m",
      "\u001b[1;31mAttributeError\u001b[0m                            Traceback (most recent call last)",
      "Input \u001b[1;32mIn [163]\u001b[0m, in \u001b[0;36m<module>\u001b[1;34m\u001b[0m\n\u001b[1;32m----> 1\u001b[0m \u001b[43mdet\u001b[49m\u001b[38;5;241;43m.\u001b[39;49m\u001b[43msorted\u001b[49m()\n",
      "\u001b[1;31mAttributeError\u001b[0m: 'dict' object has no attribute 'sorted'"
     ]
    }
   ],
   "source": [
    "det.sorted()"
   ]
  },
  {
   "cell_type": "code",
   "execution_count": 164,
   "id": "3a62198f-e332-4e46-b13f-24dc3e921c28",
   "metadata": {},
   "outputs": [
    {
     "data": {
      "text/plain": [
       "['elyes', 'helen', 'pedro']"
      ]
     },
     "execution_count": 164,
     "metadata": {},
     "output_type": "execute_result"
    }
   ],
   "source": [
    "sorted(det)"
   ]
  },
  {
   "cell_type": "code",
   "execution_count": 1,
   "id": "b62735ac-09bf-4743-b1dd-7a4e8df8f12f",
   "metadata": {},
   "outputs": [],
   "source": [
    "myset = {\"apple\", \"banana\", \"cherry\"}\n"
   ]
  },
  {
   "cell_type": "code",
   "execution_count": 4,
   "id": "1d14a2f2-082a-4ac2-967f-2e6df7fb497f",
   "metadata": {},
   "outputs": [],
   "source": [
    "myset.add('hero')"
   ]
  },
  {
   "cell_type": "code",
   "execution_count": 5,
   "id": "f2b42900-7c48-4f0f-873d-ac605b1a66a2",
   "metadata": {},
   "outputs": [
    {
     "data": {
      "text/plain": [
       "{'apple', 'banana', 'cherry', 'hero'}"
      ]
     },
     "execution_count": 5,
     "metadata": {},
     "output_type": "execute_result"
    }
   ],
   "source": [
    "myset"
   ]
  },
  {
   "cell_type": "code",
   "execution_count": 6,
   "id": "a0a26daf-1354-4df0-a872-495a57cf06c8",
   "metadata": {},
   "outputs": [
    {
     "data": {
      "text/plain": [
       "{'apple', 'banana', 'cherry', 'hero'}"
      ]
     },
     "execution_count": 6,
     "metadata": {},
     "output_type": "execute_result"
    }
   ],
   "source": [
    "myset "
   ]
  },
  {
   "cell_type": "code",
   "execution_count": 10,
   "id": "1780d5ac-3b68-4248-a25d-633b2565bd45",
   "metadata": {},
   "outputs": [
    {
     "name": "stdout",
     "output_type": "stream",
     "text": [
      "banana\n",
      "hero\n",
      "apple\n",
      "cherry\n"
     ]
    }
   ],
   "source": [
    "for item in myset:\n",
    "    print(item)"
   ]
  },
  {
   "cell_type": "code",
   "execution_count": 12,
   "id": "a9a05b3c-9168-44a1-a341-097daaa2b901",
   "metadata": {},
   "outputs": [],
   "source": [
    "myset =[ \"banana\", \"cherry\",\"cherry\"]\n"
   ]
  },
  {
   "cell_type": "code",
   "execution_count": 15,
   "id": "ac363b01-07c9-4f8a-b603-564dbb87d2ce",
   "metadata": {},
   "outputs": [
    {
     "data": {
      "text/plain": [
       "'cherry'"
      ]
     },
     "execution_count": 15,
     "metadata": {},
     "output_type": "execute_result"
    }
   ],
   "source": [
    "myset.sort()\n",
    "myset[-1]"
   ]
  },
  {
   "cell_type": "code",
   "execution_count": 19,
   "id": "2f821ff9-5a64-44a9-898d-c57f1aaefaef",
   "metadata": {},
   "outputs": [
    {
     "data": {
      "text/plain": [
       "[0, 'banana']"
      ]
     },
     "execution_count": 19,
     "metadata": {},
     "output_type": "execute_result"
    }
   ],
   "source": [
    "myset[0:2]"
   ]
  },
  {
   "cell_type": "code",
   "execution_count": 21,
   "id": "74c7c3b0-20de-41e1-b327-5acfc512352e",
   "metadata": {},
   "outputs": [],
   "source": [
    "myset.append(0)"
   ]
  },
  {
   "cell_type": "code",
   "execution_count": 28,
   "id": "b9fc0c8b-f2d8-48a0-8e0b-3205cefb5d6c",
   "metadata": {},
   "outputs": [],
   "source": [
    "myset[5]='lendo'"
   ]
  },
  {
   "cell_type": "code",
   "execution_count": 29,
   "id": "3302331e-da4f-4231-87ca-b248255ad3f8",
   "metadata": {},
   "outputs": [
    {
     "data": {
      "text/plain": [
       "['banana', 'cherry', 'cherry', 'eeroe', 'zero', 'lendo']"
      ]
     },
     "execution_count": 29,
     "metadata": {},
     "output_type": "execute_result"
    }
   ],
   "source": [
    "myset"
   ]
  },
  {
   "cell_type": "code",
   "execution_count": 30,
   "id": "ff322c08-601b-4d64-a204-a9a4ea2f7a9e",
   "metadata": {},
   "outputs": [],
   "source": [
    "myset.sort()"
   ]
  },
  {
   "cell_type": "code",
   "execution_count": 31,
   "id": "f7816a8d-931b-44d0-9cd8-4ed40f564b4a",
   "metadata": {},
   "outputs": [
    {
     "data": {
      "text/plain": [
       "['banana', 'cherry', 'cherry', 'eeroe', 'lendo', 'zero']"
      ]
     },
     "execution_count": 31,
     "metadata": {},
     "output_type": "execute_result"
    }
   ],
   "source": [
    "myset"
   ]
  },
  {
   "cell_type": "code",
   "execution_count": 33,
   "id": "ca6244fe-a495-481b-95de-3f7d0485b0b1",
   "metadata": {},
   "outputs": [
    {
     "name": "stdout",
     "output_type": "stream",
     "text": [
      "6\n"
     ]
    }
   ],
   "source": [
    "print(len(myset))"
   ]
  },
  {
   "cell_type": "code",
   "execution_count": 34,
   "id": "5e9a335d-a91d-4e39-aef9-c336fa9882fc",
   "metadata": {},
   "outputs": [
    {
     "data": {
      "text/plain": [
       "True"
      ]
     },
     "execution_count": 34,
     "metadata": {},
     "output_type": "execute_result"
    }
   ],
   "source": [
    "'cherry' in myset"
   ]
  },
  {
   "cell_type": "code",
   "execution_count": 35,
   "id": "0fd368e7-d729-4911-b461-c4a7449031d1",
   "metadata": {},
   "outputs": [],
   "source": [
    "myset2 = myset"
   ]
  },
  {
   "cell_type": "code",
   "execution_count": 36,
   "id": "b76563cb-77f8-41ef-a1c0-67d5b22c35a4",
   "metadata": {},
   "outputs": [
    {
     "data": {
      "text/plain": [
       "['banana', 'cherry', 'cherry', 'eeroe', 'lendo', 'zero']"
      ]
     },
     "execution_count": 36,
     "metadata": {},
     "output_type": "execute_result"
    }
   ],
   "source": [
    "myset2"
   ]
  },
  {
   "cell_type": "code",
   "execution_count": 37,
   "id": "66dc9721-081d-411a-8c8d-26c22d6dacd2",
   "metadata": {},
   "outputs": [
    {
     "data": {
      "text/plain": [
       "list"
      ]
     },
     "execution_count": 37,
     "metadata": {},
     "output_type": "execute_result"
    }
   ],
   "source": [
    "type(myset2)\n"
   ]
  },
  {
   "cell_type": "code",
   "execution_count": 38,
   "id": "fcf4ce84-82f2-49ec-97c5-75f433bc3468",
   "metadata": {},
   "outputs": [],
   "source": [
    "m = max(myset)"
   ]
  },
  {
   "cell_type": "code",
   "execution_count": 39,
   "id": "3d80ece0-e71d-4e28-a6dc-8399fb1f48de",
   "metadata": {},
   "outputs": [
    {
     "data": {
      "text/plain": [
       "'zero'"
      ]
     },
     "execution_count": 39,
     "metadata": {},
     "output_type": "execute_result"
    }
   ],
   "source": [
    "m"
   ]
  },
  {
   "cell_type": "code",
   "execution_count": 47,
   "id": "4e9bf19e-8655-41b5-9063-d72ca7b28a72",
   "metadata": {},
   "outputs": [],
   "source": [
    "les = [0,12,'gekke']"
   ]
  },
  {
   "cell_type": "code",
   "execution_count": 49,
   "id": "f5de17e6-11ee-4458-a624-10963624246c",
   "metadata": {},
   "outputs": [],
   "source": [
    "les.reverse()"
   ]
  },
  {
   "cell_type": "code",
   "execution_count": 50,
   "id": "6aa0a239-16a9-43c1-8756-a0ddd87a46ad",
   "metadata": {},
   "outputs": [
    {
     "data": {
      "text/plain": [
       "['gekke', 12, 0]"
      ]
     },
     "execution_count": 50,
     "metadata": {},
     "output_type": "execute_result"
    }
   ],
   "source": [
    "les"
   ]
  },
  {
   "cell_type": "code",
   "execution_count": 51,
   "id": "fed9bb58-384b-4b44-92bd-92180fd6dd28",
   "metadata": {},
   "outputs": [
    {
     "name": "stdout",
     "output_type": "stream",
     "text": [
      "['apple', 'banana', 'cherry', 'orange', 'grape']\n"
     ]
    }
   ],
   "source": [
    "list1 = [\"apple\", \"banana\", \"cherry\"]\n",
    "list2 = [\"orange\", \"grape\"]\n",
    "\n",
    "# Fuse the two lists using the \"extend()\" method.\n",
    "list1.extend(list2)\n",
    "\n",
    "# Print the fused list.\n",
    "print(list1)"
   ]
  },
  {
   "cell_type": "code",
   "execution_count": 52,
   "id": "ca6faa9c-f3b9-427e-b959-10b135cb1ef9",
   "metadata": {},
   "outputs": [
    {
     "name": "stdout",
     "output_type": "stream",
     "text": [
      "['orange', 'grape']\n"
     ]
    }
   ],
   "source": [
    "print(list2)"
   ]
  },
  {
   "cell_type": "code",
   "execution_count": 1,
   "id": "f6c87e61-50bc-4f38-8a03-a5f00590bfc8",
   "metadata": {},
   "outputs": [],
   "source": [
    "mytuple = ('fruit',0,15, True,'hurt')"
   ]
  },
  {
   "cell_type": "code",
   "execution_count": 2,
   "id": "30c43d15-28bf-4eaa-92e6-59d817ec325c",
   "metadata": {},
   "outputs": [
    {
     "data": {
      "text/plain": [
       "tuple"
      ]
     },
     "execution_count": 2,
     "metadata": {},
     "output_type": "execute_result"
    }
   ],
   "source": [
    "type(mytuple)"
   ]
  },
  {
   "cell_type": "code",
   "execution_count": 3,
   "id": "e2b08010-eb20-4588-a151-e506db76a397",
   "metadata": {},
   "outputs": [
    {
     "data": {
      "text/plain": [
       "'fruit'"
      ]
     },
     "execution_count": 3,
     "metadata": {},
     "output_type": "execute_result"
    }
   ],
   "source": [
    "mytuple[0]"
   ]
  },
  {
   "cell_type": "code",
   "execution_count": 4,
   "id": "b00fb753-e308-4f38-86d2-107c867b9969",
   "metadata": {},
   "outputs": [],
   "source": [
    "mytuple2 = ('hey','by','fine' ,'good','fruit')"
   ]
  },
  {
   "cell_type": "code",
   "execution_count": 5,
   "id": "ce3eafa5-08af-400a-9d93-628a414a2bad",
   "metadata": {},
   "outputs": [
    {
     "data": {
      "text/plain": [
       "['by', 'fine', 'fruit', 'good', 'hey']"
      ]
     },
     "execution_count": 5,
     "metadata": {},
     "output_type": "execute_result"
    }
   ],
   "source": [
    "sorted(mytuple2)"
   ]
  },
  {
   "cell_type": "code",
   "execution_count": 9,
   "id": "18125d00-b487-409f-acf9-bc9a29c81a1e",
   "metadata": {},
   "outputs": [],
   "source": [
    "mytuple3=mytuple2*2"
   ]
  },
  {
   "cell_type": "code",
   "execution_count": 6,
   "id": "98b5754a-ae31-40cf-bea3-0dd61f962be5",
   "metadata": {},
   "outputs": [
    {
     "data": {
      "text/plain": [
       "True"
      ]
     },
     "execution_count": 6,
     "metadata": {},
     "output_type": "execute_result"
    }
   ],
   "source": [
    "'by' in mytuple2"
   ]
  },
  {
   "cell_type": "code",
   "execution_count": 21,
   "id": "7466a546-340f-4b70-a603-d7101a6cfcea",
   "metadata": {},
   "outputs": [
    {
     "data": {
      "text/plain": [
       "('hey', 'by', 'fine', 'good', 'fruit', 'fruit', 0, 15, True, 'hurt')"
      ]
     },
     "execution_count": 21,
     "metadata": {},
     "output_type": "execute_result"
    }
   ],
   "source": [
    "mytuple2 + mytuple"
   ]
  },
  {
   "cell_type": "code",
   "execution_count": 3,
   "id": "39f02d0b-4c01-4881-b115-c1f555f30803",
   "metadata": {},
   "outputs": [
    {
     "data": {
      "text/plain": [
       "'fruit'"
      ]
     },
     "execution_count": 3,
     "metadata": {},
     "output_type": "execute_result"
    }
   ],
   "source": [
    "my= mytuple2[-1]\n",
    "my"
   ]
  },
  {
   "cell_type": "code",
   "execution_count": 25,
   "id": "8007d53b-e4fd-49fe-ba7d-ce2934d417cc",
   "metadata": {},
   "outputs": [
    {
     "data": {
      "text/plain": [
       "tuple"
      ]
     },
     "execution_count": 25,
     "metadata": {},
     "output_type": "execute_result"
    }
   ],
   "source": [
    "type(my)"
   ]
  },
  {
   "cell_type": "code",
   "execution_count": 17,
   "id": "1d81003c-4060-4ea2-9a2b-8e50f7ef1ffd",
   "metadata": {},
   "outputs": [],
   "source": [
    "myset = {'heelo','hi','by',True, 15.2,2, 'c'}"
   ]
  },
  {
   "cell_type": "code",
   "execution_count": 18,
   "id": "ec612a65-1ad4-4e51-8877-1632b04e8adb",
   "metadata": {},
   "outputs": [
    {
     "data": {
      "text/plain": [
       "set"
      ]
     },
     "execution_count": 18,
     "metadata": {},
     "output_type": "execute_result"
    }
   ],
   "source": [
    "type(myset)"
   ]
  },
  {
   "cell_type": "code",
   "execution_count": 19,
   "id": "a9453b14-c31e-4c46-a422-692509b43aa8",
   "metadata": {},
   "outputs": [
    {
     "name": "stdout",
     "output_type": "stream",
     "text": [
      "hi\n",
      "True\n",
      "2\n",
      "heelo\n",
      "by\n",
      "c\n",
      "15.2\n"
     ]
    }
   ],
   "source": [
    "for x in myset:\n",
    "  print(x)"
   ]
  },
  {
   "cell_type": "code",
   "execution_count": 20,
   "id": "47aa98f8-3757-4492-a61f-89eee052c099",
   "metadata": {},
   "outputs": [
    {
     "data": {
      "text/plain": [
       "True"
      ]
     },
     "execution_count": 20,
     "metadata": {},
     "output_type": "execute_result"
    }
   ],
   "source": [
    "15.2 in myset"
   ]
  },
  {
   "cell_type": "code",
   "execution_count": 30,
   "id": "a13f1ea8-1354-4d84-a253-003c0952a4a1",
   "metadata": {},
   "outputs": [],
   "source": [
    "tet = myset.add('hey there')"
   ]
  },
  {
   "cell_type": "code",
   "execution_count": 31,
   "id": "eb2138fe-c7c9-41a4-9a51-41b1063c1004",
   "metadata": {},
   "outputs": [],
   "source": [
    "tet ={'therefore','used'}"
   ]
  },
  {
   "cell_type": "code",
   "execution_count": 32,
   "id": "961f56ff-61c2-42e2-9bd1-057ad5df7c59",
   "metadata": {},
   "outputs": [],
   "source": [
    "tet2 =  tet.copy()"
   ]
  },
  {
   "cell_type": "code",
   "execution_count": 37,
   "id": "deaba928-7d68-46eb-91ac-0ed09dc60e68",
   "metadata": {},
   "outputs": [],
   "source": [
    "tet2.add('fire')"
   ]
  },
  {
   "cell_type": "code",
   "execution_count": 40,
   "id": "912c13a5-5077-4b8f-a880-23d873f5e134",
   "metadata": {},
   "outputs": [
    {
     "data": {
      "text/plain": [
       "{'therefore', 'used'}"
      ]
     },
     "execution_count": 40,
     "metadata": {},
     "output_type": "execute_result"
    }
   ],
   "source": [
    "tet"
   ]
  },
  {
   "cell_type": "code",
   "execution_count": 38,
   "id": "21ab244d-4397-43cc-b7b6-34173b6fabca",
   "metadata": {},
   "outputs": [
    {
     "data": {
      "text/plain": [
       "{'by', 'fire', 'hi', 'therefore', 'used'}"
      ]
     },
     "execution_count": 38,
     "metadata": {},
     "output_type": "execute_result"
    }
   ],
   "source": [
    "tet2"
   ]
  },
  {
   "cell_type": "code",
   "execution_count": 47,
   "id": "2136c397-096d-4043-9fa1-7eeefd06564a",
   "metadata": {},
   "outputs": [],
   "source": [
    "tr= tet2.copy()"
   ]
  },
  {
   "cell_type": "code",
   "execution_count": 48,
   "id": "81a6b150-caea-46d0-bbd0-7e2f6de56421",
   "metadata": {},
   "outputs": [
    {
     "data": {
      "text/plain": [
       "{'by', 'fire', 'hi', 'therefore', 'used'}"
      ]
     },
     "execution_count": 48,
     "metadata": {},
     "output_type": "execute_result"
    }
   ],
   "source": [
    "tr"
   ]
  },
  {
   "cell_type": "code",
   "execution_count": null,
   "id": "b2fcd133-36f4-40bd-9b35-6e5fc511bd2f",
   "metadata": {},
   "outputs": [],
   "source": []
  },
  {
   "cell_type": "code",
   "execution_count": 10,
   "id": "1924e7af-8fe5-4fcb-b2c9-1deaf0b8d4ad",
   "metadata": {},
   "outputs": [
    {
     "name": "stdout",
     "output_type": "stream",
     "text": [
      "hey 0\n",
      "hey 1\n",
      "hey 2\n",
      "hey 3\n",
      "hey 4\n"
     ]
    }
   ],
   "source": [
    "for i in range(5):\n",
    "    if i == 1:\n",
    "        pass\n",
    "    print ('hey',i)"
   ]
  },
  {
   "cell_type": "code",
   "execution_count": 20,
   "id": "38bf46c8-272f-4027-9f8c-2627982905f3",
   "metadata": {},
   "outputs": [],
   "source": [
    "a = (\"John\", \"Charles\", \"Mike\")\n",
    "b = (\"Jenny\", \"Christy\", \"Monica\", \"Vicky\")\n",
    "\n",
    "x = zip(a, b)"
   ]
  },
  {
   "cell_type": "code",
   "execution_count": 21,
   "id": "03970e61-d32d-4afa-8461-80ea0ed9a13f",
   "metadata": {},
   "outputs": [
    {
     "data": {
      "text/plain": [
       "zip"
      ]
     },
     "execution_count": 21,
     "metadata": {},
     "output_type": "execute_result"
    }
   ],
   "source": [
    "type(x)"
   ]
  },
  {
   "cell_type": "code",
   "execution_count": 22,
   "id": "cff15a06-c578-45c0-9421-e147f0c8f0a7",
   "metadata": {},
   "outputs": [
    {
     "data": {
      "text/plain": [
       "<zip at 0x193a3702a00>"
      ]
     },
     "execution_count": 22,
     "metadata": {},
     "output_type": "execute_result"
    }
   ],
   "source": [
    "x"
   ]
  },
  {
   "cell_type": "code",
   "execution_count": 23,
   "id": "1e546538-0988-42aa-add1-fe97a55aeae1",
   "metadata": {},
   "outputs": [
    {
     "name": "stdout",
     "output_type": "stream",
     "text": [
      "John:Jenny\n",
      "Charles:Christy\n",
      "Mike:Monica\n"
     ]
    }
   ],
   "source": [
    "for c,v in x :\n",
    "    print(\"{}:{}\".format(c,v))"
   ]
  },
  {
   "cell_type": "code",
   "execution_count": 24,
   "id": "de02d97d-4eaa-4199-af9e-4ac1d9f047be",
   "metadata": {},
   "outputs": [
    {
     "name": "stdout",
     "output_type": "stream",
     "text": [
      "Return type: <class 'enumerate'>\n"
     ]
    }
   ],
   "source": [
    "\n",
    "\n",
    "l1 = [\"eat\", \"sleep\", \"repeat\"]\n",
    "s1 = \"geek\"\n",
    " \n",
    "# creating enumerate objects\n",
    "obj1 = enumerate(l1)\n",
    "obj2 = enumerate(s1)\n",
    " \n",
    "print (\"Return type:\", type(obj1))"
   ]
  },
  {
   "cell_type": "code",
   "execution_count": 25,
   "id": "f58542df-0b62-4a0d-8cf4-1c908dde33d6",
   "metadata": {},
   "outputs": [
    {
     "name": "stdout",
     "output_type": "stream",
     "text": [
      "[(0, 'eat'), (1, 'sleep'), (2, 'repeat')]\n"
     ]
    }
   ],
   "source": [
    "print (list(enumerate(l1)))\n"
   ]
  },
  {
   "cell_type": "code",
   "execution_count": 31,
   "id": "e1599e93-6bd1-4024-8820-7b2f4c042637",
   "metadata": {},
   "outputs": [],
   "source": [
    "myset = { True,1,'1'}"
   ]
  },
  {
   "cell_type": "code",
   "execution_count": 32,
   "id": "988103c4-86cd-478b-929a-db6df1e281a9",
   "metadata": {},
   "outputs": [
    {
     "data": {
      "text/plain": [
       "{'1', True}"
      ]
     },
     "execution_count": 32,
     "metadata": {},
     "output_type": "execute_result"
    }
   ],
   "source": [
    "myset\n"
   ]
  },
  {
   "cell_type": "code",
   "execution_count": 33,
   "id": "733c8cc0-fcae-40a3-b480-db7a6944762e",
   "metadata": {},
   "outputs": [
    {
     "data": {
      "text/plain": [
       "set"
      ]
     },
     "execution_count": 33,
     "metadata": {},
     "output_type": "execute_result"
    }
   ],
   "source": [
    "type(myset)"
   ]
  },
  {
   "cell_type": "code",
   "execution_count": 1,
   "id": "d5d80ce0-b757-4357-a2c4-73d00e26e510",
   "metadata": {},
   "outputs": [
    {
     "name": "stdout",
     "output_type": "stream",
     "text": [
      "error divide by zero\n"
     ]
    }
   ],
   "source": [
    "try:\n",
    "    print(5/0)\n",
    "except : \n",
    "    print(\"error divide by zero\")"
   ]
  },
  {
   "cell_type": "code",
   "execution_count": 2,
   "id": "716688b3-b8c0-46de-b7a3-37c5fa5dcb70",
   "metadata": {},
   "outputs": [],
   "source": [
    "x= lambda c,d:c*2+d"
   ]
  },
  {
   "cell_type": "code",
   "execution_count": 3,
   "id": "1a8ab064-3ab4-4960-8d4a-77fed73035dd",
   "metadata": {},
   "outputs": [
    {
     "name": "stdout",
     "output_type": "stream",
     "text": [
      "12\n"
     ]
    }
   ],
   "source": [
    "print(x(5,2))"
   ]
  },
  {
   "cell_type": "code",
   "execution_count": 20,
   "id": "77dd3e33-da7c-4505-bd60-bc9dac79e01c",
   "metadata": {},
   "outputs": [
    {
     "name": "stdout",
     "output_type": "stream",
     "text": [
      "abdennnour khorcheni\n",
      "\n",
      "\n",
      "\n"
     ]
    }
   ],
   "source": [
    "r= open(r\"C:\\Users\\user\\Desktop\\english\\heelo.txt\")\n",
    "print( r.readline())\n",
    "print( r.readline())"
   ]
  },
  {
   "cell_type": "code",
   "execution_count": 19,
   "id": "a240252c-b86d-49f9-93f7-65b3fa7ec6be",
   "metadata": {},
   "outputs": [
    {
     "data": {
      "text/plain": [
       "['abdennnour khorcheni\\n', '\\n', 'salut ca va?']"
      ]
     },
     "execution_count": 19,
     "metadata": {},
     "output_type": "execute_result"
    }
   ],
   "source": [
    "data"
   ]
  },
  {
   "cell_type": "code",
   "execution_count": 3,
   "id": "37d83b68-324e-4eeb-9f8f-25977f268cb0",
   "metadata": {},
   "outputs": [
    {
     "name": "stdout",
     "output_type": "stream",
     "text": [
      "8\n"
     ]
    }
   ],
   "source": [
    "print(len('   hi   '))"
   ]
  },
  {
   "cell_type": "code",
   "execution_count": 4,
   "id": "8052c335-9092-4c43-9535-517a9154ee88",
   "metadata": {},
   "outputs": [
    {
     "data": {
      "text/plain": [
       "0"
      ]
     },
     "execution_count": 4,
     "metadata": {},
     "output_type": "execute_result"
    }
   ],
   "source": [
    "'abdennour'.find('abd')\n"
   ]
  },
  {
   "cell_type": "code",
   "execution_count": 12,
   "id": "e5a9e23d-5d2a-46e9-848a-96f91bbe4680",
   "metadata": {},
   "outputs": [
    {
     "data": {
      "text/plain": [
       "dict"
      ]
     },
     "execution_count": 12,
     "metadata": {},
     "output_type": "execute_result"
    }
   ],
   "source": [
    "type({10:10})"
   ]
  },
  {
   "cell_type": "code",
   "execution_count": 19,
   "id": "052db449-176d-466d-804d-a63a61d0888e",
   "metadata": {},
   "outputs": [
    {
     "data": {
      "text/plain": [
       "{'hey': 10}"
      ]
     },
     "execution_count": 19,
     "metadata": {},
     "output_type": "execute_result"
    }
   ],
   "source": [
    "dict(hey=10)"
   ]
  },
  {
   "cell_type": "code",
   "execution_count": 22,
   "id": "62d40a1a-f1b4-42cc-b93f-24664496d226",
   "metadata": {},
   "outputs": [
    {
     "data": {
      "text/plain": [
       "{'gho': 'hello'}"
      ]
     },
     "execution_count": 22,
     "metadata": {},
     "output_type": "execute_result"
    }
   ],
   "source": [
    "dict(gho='hello')"
   ]
  },
  {
   "cell_type": "code",
   "execution_count": 23,
   "id": "cce39dd9-2cec-48d7-92a9-71adda1cad12",
   "metadata": {},
   "outputs": [],
   "source": [
    "my_dict = {\"name\": \"Alice\", \"age\": 25}\n",
    "age = my_dict.pop(\"name\")\n"
   ]
  },
  {
   "cell_type": "code",
   "execution_count": 24,
   "id": "ae7b4680-5008-490c-a565-75a1b4f32e85",
   "metadata": {},
   "outputs": [
    {
     "data": {
      "text/plain": [
       "'Alice'"
      ]
     },
     "execution_count": 24,
     "metadata": {},
     "output_type": "execute_result"
    }
   ],
   "source": [
    "age"
   ]
  },
  {
   "cell_type": "code",
   "execution_count": 7,
   "id": "88153cf7-15f1-4bad-aa02-1103e241ce61",
   "metadata": {},
   "outputs": [],
   "source": [
    "class UserData():\n",
    "    def __init__(self,name,age):\n",
    "        self.name=name\n",
    "        self.age=age\n",
    "    def user(self):\n",
    "        print(\"User name is {} and is {} years old.\".format(self.name,self.age))"
   ]
  },
  {
   "cell_type": "code",
   "execution_count": 8,
   "id": "e3d01ab8-81ab-4bd1-9f87-4d35f53c69c3",
   "metadata": {},
   "outputs": [],
   "source": [
    "user_1 = UserData(\"Pedro\",26)\n",
    "user_2 = UserData(\"David\",65)\n"
   ]
  },
  {
   "cell_type": "code",
   "execution_count": 9,
   "id": "e17c1894-53e4-497d-a5b7-3a8a28f45c68",
   "metadata": {},
   "outputs": [
    {
     "data": {
      "text/plain": [
       "26"
      ]
     },
     "execution_count": 9,
     "metadata": {},
     "output_type": "execute_result"
    }
   ],
   "source": [
    "user_1.age"
   ]
  },
  {
   "cell_type": "code",
   "execution_count": 10,
   "id": "82601da7-8e08-41f6-9775-8c6710109574",
   "metadata": {},
   "outputs": [
    {
     "data": {
      "text/plain": [
       "'David'"
      ]
     },
     "execution_count": 10,
     "metadata": {},
     "output_type": "execute_result"
    }
   ],
   "source": [
    "user_2.name"
   ]
  },
  {
   "cell_type": "code",
   "execution_count": 11,
   "id": "14f30d21-0d5b-4fad-9183-f45605f4b32f",
   "metadata": {},
   "outputs": [
    {
     "name": "stdout",
     "output_type": "stream",
     "text": [
      "User name is Pedro and is 26 years old.\n"
     ]
    }
   ],
   "source": [
    "user_1.user()"
   ]
  },
  {
   "cell_type": "code",
   "execution_count": 12,
   "id": "e4d4262d-97b6-4d0f-a39c-d38f0b0264e3",
   "metadata": {},
   "outputs": [
    {
     "name": "stdout",
     "output_type": "stream",
     "text": [
      "User name is David and is 65 years old.\n"
     ]
    }
   ],
   "source": [
    "user_2.user()"
   ]
  },
  {
   "cell_type": "code",
   "execution_count": 22,
   "id": "60836429-b6a0-49ce-9ddf-74b555adfbef",
   "metadata": {},
   "outputs": [
    {
     "ename": "AttributeError",
     "evalue": "'Dog' object has no attribute '__age'",
     "output_type": "error",
     "traceback": [
      "\u001b[1;31m---------------------------------------------------------------------------\u001b[0m",
      "\u001b[1;31mAttributeError\u001b[0m                            Traceback (most recent call last)",
      "Input \u001b[1;32mIn [22]\u001b[0m, in \u001b[0;36m<module>\u001b[1;34m\u001b[0m\n\u001b[0;32m     20\u001b[0m dog \u001b[38;5;241m=\u001b[39m Dog(\u001b[38;5;124m'\u001b[39m\u001b[38;5;124mBuddy\u001b[39m\u001b[38;5;124m'\u001b[39m, \u001b[38;5;124m'\u001b[39m\u001b[38;5;124mLabrador Retriever\u001b[39m\u001b[38;5;124m'\u001b[39m, \u001b[38;5;241m2\u001b[39m)\n\u001b[0;32m     22\u001b[0m \u001b[38;5;66;03m# Print the dog's name\u001b[39;00m\n\u001b[1;32m---> 23\u001b[0m \u001b[38;5;28mprint\u001b[39m(\u001b[43mdog\u001b[49m\u001b[38;5;241;43m.\u001b[39;49m\u001b[43m__age\u001b[49m)\n",
      "\u001b[1;31mAttributeError\u001b[0m: 'Dog' object has no attribute '__age'"
     ]
    }
   ],
   "source": [
    "#encapsulation\n",
    "class Dog:\n",
    "    def __init__(self, name, breed, age):\n",
    "        self.__name = name\n",
    "        self._breed = breed\n",
    "        self.__age = age\n",
    "\n",
    "    def get_name(self):\n",
    "        return self._name\n",
    "\n",
    "    def get_breed(self):\n",
    "        return self._breed\n",
    "\n",
    "    def get_age(self):\n",
    "        return self.__age\n",
    "\n",
    "    def bark(self):\n",
    "        print('Woof!')\n",
    "\n",
    "# Create a new Dog object\n",
    "dog = Dog('Buddy', 'Labrador Retriever', 2)\n",
    "\n",
    "# Print the dog's name\n",
    "print(dog.__age)"
   ]
  },
  {
   "cell_type": "code",
   "execution_count": 23,
   "id": "9b0046f3-4a46-4d7e-9a30-3cc3b8c4a782",
   "metadata": {},
   "outputs": [
    {
     "name": "stdout",
     "output_type": "stream",
     "text": [
      "2\n"
     ]
    }
   ],
   "source": [
    "print(dog.get_age())"
   ]
  },
  {
   "cell_type": "code",
   "execution_count": 5,
   "id": "a5401580-6172-4dbc-ba46-1d0be7a57aa2",
   "metadata": {},
   "outputs": [],
   "source": [
    "#inheritence\n",
    "class Animal():\n",
    "    def __init__(self, name):\n",
    "        self.name=name\n",
    "    def make_sound(self,sound):\n",
    "        print(sound)\n",
    "class Dog(Animal):\n",
    "    def make_sound(self):\n",
    "        print(\"habhab\")\n",
    "\n",
    "class Cat(Animal):\n",
    "    def make_sound(self):\n",
    "        print('Miaw')\n",
    "        \n",
    "dog_1 = Dog('ritta')\n",
    "cat_1 = Cat('kitta')\n",
    "    "
   ]
  },
  {
   "cell_type": "code",
   "execution_count": 11,
   "id": "a3bae885-0d62-4e08-a6b2-3df195a30a4f",
   "metadata": {},
   "outputs": [
    {
     "name": "stdout",
     "output_type": "stream",
     "text": [
      "Miaw\n",
      "None\n"
     ]
    }
   ],
   "source": [
    "#polymorphism\n",
    "def make_animal_sound(animal):\n",
    "    return animal.make_sound()\n",
    "\n",
    "dog_1 = Dog('ritta')\n",
    "print(make_animal_sound(cat_1))"
   ]
  },
  {
   "cell_type": "code",
   "execution_count": null,
   "id": "5dbc59b3-cf6e-4ee2-9601-aac527a0d510",
   "metadata": {},
   "outputs": [],
   "source": []
  }
 ],
 "metadata": {
  "kernelspec": {
   "display_name": "Python 3 (ipykernel)",
   "language": "python",
   "name": "python3"
  },
  "language_info": {
   "codemirror_mode": {
    "name": "ipython",
    "version": 3
   },
   "file_extension": ".py",
   "mimetype": "text/x-python",
   "name": "python",
   "nbconvert_exporter": "python",
   "pygments_lexer": "ipython3",
   "version": "3.10.2"
  }
 },
 "nbformat": 4,
 "nbformat_minor": 5
}
